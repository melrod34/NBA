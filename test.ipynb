{
 "cells": [
  {
   "cell_type": "code",
   "execution_count": 1,
   "metadata": {},
   "outputs": [],
   "source": [
    "from nba_api.stats.endpoints import leagueleaders\n",
    "import pandas as pd"
   ]
  },
  {
   "cell_type": "code",
   "execution_count": 2,
   "metadata": {},
   "outputs": [
    {
     "name": "stdout",
     "output_type": "stream",
     "text": [
      "                              MIN    FGM    FGA    FTM    FTA     PTS   FG3M  \\\n",
      "PLAYER          PLAYER_ID                                                      \n",
      "Anthony Davis   203076     1792.0  474.0  855.0  272.0  337.0  1237.0   17.0   \n",
      "Anthony Edwards 1630162    1752.0  445.0  957.0  273.0  326.0  1290.0  127.0   \n",
      "Damian Lillard  203081     1715.0  363.0  852.0  347.0  376.0  1216.0  143.0   \n",
      "De'Aaron Fox    1628368    1626.0  435.0  936.0  210.0  297.0  1214.0  134.0   \n",
      "DeMar DeRozan   201942     1955.0  406.0  864.0  317.0  372.0  1178.0   49.0   \n",
      "\n",
      "                            FG3A  \n",
      "PLAYER          PLAYER_ID         \n",
      "Anthony Davis   203076      61.0  \n",
      "Anthony Edwards 1630162    332.0  \n",
      "Damian Lillard  203081     414.0  \n",
      "De'Aaron Fox    1628368    356.0  \n",
      "DeMar DeRozan   201942     146.0  \n"
     ]
    }
   ],
   "source": [
    "try:\n",
    "    # Pull data for the top 500 scorers\n",
    "    top_500 = leagueleaders.LeagueLeaders(\n",
    "        season='2023-24',\n",
    "        season_type_all_star='Regular Season',\n",
    "        stat_category_abbreviation='PTS'\n",
    "    ).get_data_frames()[0][:20]\n",
    "\n",
    "    # Correct column names for grouping\n",
    "    avg_stats_columns = ['MIN', 'FGM', 'FGA', 'FTM', 'FTA', 'PTS', 'FG3M', 'FG3A']\n",
    "    top_500_avg = top_500.groupby(['PLAYER', 'PLAYER_ID'])[avg_stats_columns].mean()\n",
    "\n",
    "    # Inspect the first few rows of the averaged stats\n",
    "    print(top_500_avg.head())\n",
    "\n",
    "except Exception as e:\n",
    "    print(f\"An error occurred: {e}\")"
   ]
  }
 ],
 "metadata": {
  "kernelspec": {
   "display_name": "Python 3",
   "language": "python",
   "name": "python3"
  },
  "language_info": {
   "codemirror_mode": {
    "name": "ipython",
    "version": 3
   },
   "file_extension": ".py",
   "mimetype": "text/x-python",
   "name": "python",
   "nbconvert_exporter": "python",
   "pygments_lexer": "ipython3",
   "version": "3.10.11"
  }
 },
 "nbformat": 4,
 "nbformat_minor": 2
}
